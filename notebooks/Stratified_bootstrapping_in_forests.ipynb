{
 "cells": [
  {
   "cell_type": "code",
   "execution_count": 2,
   "metadata": {
    "colab": {},
    "colab_type": "code",
    "id": "JYdVgmedjqkx"
   },
   "outputs": [],
   "source": [
    "%load_ext autoreload\n",
    "%autoreload 2\n",
    "\n",
    "from sklearn.datasets import make_classification\n",
    "from sklearn.model_selection import train_test_split\n",
    "from sklearn.ensemble import RandomForestClassifier\n",
    "from sklearn.metrics import roc_auc_score\n",
    "from sklearn.utils import resample\n",
    "\n",
    "from imblearn.under_sampling import RandomUnderSampler \n",
    "from imblearn.over_sampling import RandomOverSampler\n",
    "\n",
    "from datetime import datetime\n",
    "import numpy as np\n",
    "import pandas as pd\n",
    "\n",
    "import random"
   ]
  },
  {
   "cell_type": "code",
   "execution_count": 29,
   "metadata": {},
   "outputs": [],
   "source": [
    "# custom stuff\n",
    "from src.RandomForest import CustomRandomForestClassifier, StratifiedRandomForest, BalancedRandomForest, OverUnderRandomForest\n",
    "from src.eval import eval_models"
   ]
  },
  {
   "cell_type": "markdown",
   "metadata": {},
   "source": [
    "## Compare our custom RF algo\n",
    "\n",
    "Just a quick sanity check.. our custom algo has comparible performance to the sklearn implementation.\n",
    "\n",
    "So now we know it's safe to start experimenting with adjustments to our custom implementation."
   ]
  },
  {
   "cell_type": "code",
   "execution_count": 17,
   "metadata": {},
   "outputs": [],
   "source": [
    "X, y = make_classification(\n",
    "            n_samples = 10000, \n",
    "            n_features = 20, \n",
    "            n_informative=15, \n",
    "            n_redundant=2, \n",
    "            n_classes=2, \n",
    "            weights = [.9], \n",
    "            flip_y=0.05,\n",
    "            random_state = 42)\n",
    "X = pd.DataFrame(X)\n"
   ]
  },
  {
   "cell_type": "code",
   "execution_count": 26,
   "metadata": {},
   "outputs": [
    {
     "name": "stderr",
     "output_type": "stream",
     "text": [
      "100%|██████████| 2/2 [05:03<00:00, 151.74s/it]\n"
     ]
    },
    {
     "data": {
      "text/html": [
       "<div>\n",
       "<style scoped>\n",
       "    .dataframe tbody tr th:only-of-type {\n",
       "        vertical-align: middle;\n",
       "    }\n",
       "\n",
       "    .dataframe tbody tr th {\n",
       "        vertical-align: top;\n",
       "    }\n",
       "\n",
       "    .dataframe thead th {\n",
       "        text-align: right;\n",
       "    }\n",
       "</style>\n",
       "<table border=\"1\" class=\"dataframe\">\n",
       "  <thead>\n",
       "    <tr style=\"text-align: right;\">\n",
       "      <th></th>\n",
       "      <th>model</th>\n",
       "      <th>auc_train</th>\n",
       "      <th>auc_test</th>\n",
       "      <th>delta</th>\n",
       "      <th>n_models</th>\n",
       "    </tr>\n",
       "  </thead>\n",
       "  <tbody>\n",
       "    <tr>\n",
       "      <th>0</th>\n",
       "      <td>custom RF</td>\n",
       "      <td>0.8815</td>\n",
       "      <td>0.8459</td>\n",
       "      <td>0.0356</td>\n",
       "      <td>100</td>\n",
       "    </tr>\n",
       "    <tr>\n",
       "      <th>0</th>\n",
       "      <td>sklearn RF</td>\n",
       "      <td>0.8682</td>\n",
       "      <td>0.8375</td>\n",
       "      <td>0.0307</td>\n",
       "      <td>100</td>\n",
       "    </tr>\n",
       "  </tbody>\n",
       "</table>\n",
       "</div>"
      ],
      "text/plain": [
       "        model  auc_train  auc_test   delta  n_models\n",
       "0   custom RF     0.8815    0.8459  0.0356       100\n",
       "0  sklearn RF     0.8682    0.8375  0.0307       100"
      ]
     },
     "execution_count": 26,
     "metadata": {},
     "output_type": "execute_result"
    }
   ],
   "source": [
    "rf_params = {\"max_depth\": 7, \"min_samples_leaf\": 200, \"n_estimators\": 100, \"max_features\": 'sqrt', \"random_state\": 42}\n",
    "\n",
    "eval_models(models={\n",
    "    'sklearn RF' : RandomForestClassifier(**rf_params),\n",
    "    'custom RF' : CustomRandomForestClassifier(**rf_params)\n",
    "    }, X=X, y=y, n_trials=100\n",
    ")"
   ]
  },
  {
   "cell_type": "markdown",
   "metadata": {
    "colab_type": "text",
    "id": "WR05Fg4kjrsx"
   },
   "source": [
    "## Test variants"
   ]
  },
  {
   "cell_type": "code",
   "execution_count": null,
   "metadata": {},
   "outputs": [],
   "source": [
    "eval_models(models={\n",
    "    'class_weight balanced RF' : RandomForestClassifier(**rf_params, class_weight=\"balanced\"),\n",
    "    'Stratified RF' : StratifiedRandomForest(**rf_params),\n",
    "    'Balanced RF' : BalancedRandomForest(**rf_params),\n",
    "    'OverUnder RF' : OverUnderRandomForest(**rf_params),\n",
    "    }, X=X, y=y, n_trials=100\n",
    ")"
   ]
  },
  {
   "cell_type": "markdown",
   "metadata": {},
   "source": [
    "## with 70% imbalance instead of 90%"
   ]
  },
  {
   "cell_type": "code",
   "execution_count": null,
   "metadata": {},
   "outputs": [],
   "source": [
    "# What about the same, but for class imbalance 70% ? \n",
    "\n",
    "X, y = make_classification(\n",
    "            n_samples = 10000, \n",
    "            n_features = 20, \n",
    "            n_informative=15, \n",
    "            n_redundant=2, \n",
    "            n_classes=2, \n",
    "            flip_y=0.05,\n",
    "            weights = [.7], \n",
    "            random_state = 42)\n",
    "X = pd.DataFrame(X)\n",
    "\n",
    "eval_models(models={\n",
    "    'sklearn RF' : RandomForestClassifier(**rf_params),\n",
    "    'custom RF' : CustomRandomForestClassifier(**rf_params),\n",
    "    'class_weight balanced RF' : RandomForestClassifier(**rf_params, class_weight=\"balanced\"),\n",
    "    'Stratified RF' : StratifiedRandomForest(**rf_params),\n",
    "    'Balanced RF' : BalancedRandomForest(**rf_params),\n",
    "    'OverUnder RF' : OverUnderRandomForest(**rf_params),\n",
    "    }, X=X, y=y, n_trials=100\n",
    ")"
   ]
  }
 ],
 "metadata": {
  "colab": {
   "collapsed_sections": [],
   "name": "Stratified bootstrapping in forests.ipynb",
   "provenance": []
  },
  "kernelspec": {
   "display_name": "Python 3",
   "language": "python",
   "name": "python3"
  },
  "language_info": {
   "codemirror_mode": {
    "name": "ipython",
    "version": 3
   },
   "file_extension": ".py",
   "mimetype": "text/x-python",
   "name": "python",
   "nbconvert_exporter": "python",
   "pygments_lexer": "ipython3",
   "version": "3.9.5"
  }
 },
 "nbformat": 4,
 "nbformat_minor": 2
}
